{
  "nbformat": 4,
  "nbformat_minor": 0,
  "metadata": {
    "colab": {
      "name": "Variasi Merge Sort.ipynb",
      "provenance": [],
      "collapsed_sections": [],
      "toc_visible": true
    },
    "kernelspec": {
      "name": "python3",
      "display_name": "Python 3"
    },
    "language_info": {
      "name": "python"
    }
  },
  "cells": [
    {
      "cell_type": "markdown",
      "metadata": {
        "id": "aRmvy_P0OkmD"
      },
      "source": [
        "### Merging 2 array "
      ]
    },
    {
      "cell_type": "code",
      "metadata": {
        "id": "fUu63Q4uHkCe"
      },
      "source": [
        "def merge(arr1,arr2) :\n",
        "  n1 = len(arr1)\n",
        "  n2 = len(arr2)\n",
        "  arr3 = [None]*(n1+n2)\n",
        "  i = 0\n",
        "  j = 0\n",
        "  k = 0\n",
        "  \n",
        "  while i < n1 and j < n2:\n",
        "    if arr1[i] < arr2[j]:\n",
        "      arr3[k] = arr1[i]\n",
        "      k = k + 1\n",
        "      i = i + 1\n",
        "    else:\n",
        "      arr3[k] = arr2[j]\n",
        "      k = k + 1\n",
        "      j = j + 1\n",
        "  while i < n1:\n",
        "    arr3[k] = arr1[i];\n",
        "    k = k + 1\n",
        "    i = i + 1\n",
        "  while j < n2:\n",
        "    arr3[k] = arr2[j];\n",
        "    k = k + 1\n",
        "    j = j + 1\n",
        "  return arr3"
      ],
      "execution_count": 15,
      "outputs": []
    },
    {
      "cell_type": "markdown",
      "metadata": {
        "id": "3Lj-SBxJOe-D"
      },
      "source": [
        "### Partisi Array"
      ]
    },
    {
      "cell_type": "code",
      "metadata": {
        "id": "r6IC4KLWHemD"
      },
      "source": [
        "def partition_arr(arr) : \n",
        "  l_of_l = []\n",
        "  arr_seq = [arr[0]]\n",
        "  status = \"start\"\n",
        "  for l in range(1,len(arr)):\n",
        "    if status == \"start\"  :\n",
        "      if arr[l] > arr[l-1]:\n",
        "        status = \"inc\"\n",
        "      else :\n",
        "        status = \"dec\"\n",
        "      arr_seq.append(arr[l])\n",
        "      \n",
        "    elif status == \"inc\" :\n",
        "      if arr[l] > arr[l-1]:\n",
        "        arr_seq.append(arr[l])\n",
        "      else :\n",
        "        l_of_l.append(arr_seq)\n",
        "        arr_seq = [arr[l]]\n",
        "        status = \"start\"\n",
        "\n",
        "    else : \n",
        "      if arr[l] <= arr[l-1]:\n",
        "        arr_seq.append(arr[l])\n",
        "      else :\n",
        "        arr_seq = arr_seq[::-1]\n",
        "        l_of_l.append(arr_seq)\n",
        "        arr_seq = [arr[l]]\n",
        "        status = \"start\"\n",
        "  if status == \"inc\" :\n",
        "    l_of_l.append(arr_seq)\n",
        "  else :\n",
        "    l_of_l.append(arr_seq[::-1])\n",
        "  return l_of_l"
      ],
      "execution_count": 16,
      "outputs": []
    },
    {
      "cell_type": "markdown",
      "metadata": {
        "id": "m5jPzSr6OnLM"
      },
      "source": [
        "### Merge Sort"
      ]
    },
    {
      "cell_type": "code",
      "metadata": {
        "id": "Q9nF5NIPHnc3"
      },
      "source": [
        "def mergeSort(arr):\n",
        "    if len(arr) > 1:\n",
        "\n",
        "        mid = len(arr)//2\n",
        "        L = arr[:mid]\n",
        "        R = arr[mid:]\n",
        "  \n",
        "        mergeSort(L)\n",
        "        mergeSort(R)\n",
        "  \n",
        "        i = j = k = 0\n",
        "\n",
        "        while i < len(L) and j < len(R):\n",
        "            if L[i] < R[j]:\n",
        "                arr[k] = L[i]\n",
        "                i += 1\n",
        "            else:\n",
        "                arr[k] = R[j]\n",
        "                j += 1\n",
        "            k += 1\n",
        "\n",
        "        while i < len(L):\n",
        "            arr[k] = L[i]\n",
        "            i += 1\n",
        "            k += 1\n",
        "  \n",
        "        while j < len(R):\n",
        "            arr[k] = R[j]\n",
        "            j += 1\n",
        "            k += 1\n",
        "        return arr\n",
        "\n",
        "# Source  : https://www.geeksforgeeks.org/merge-sort/"
      ],
      "execution_count": 17,
      "outputs": []
    },
    {
      "cell_type": "markdown",
      "metadata": {
        "id": "5Jy_qODHOppK"
      },
      "source": [
        "### Tim Sort"
      ]
    },
    {
      "cell_type": "code",
      "metadata": {
        "id": "NubSmhN2H1VO"
      },
      "source": [
        "def Timsort(arr) : \n",
        "  R = partition_arr(arr)\n",
        "  Q = []\n",
        "  while len(R) != 0 : \n",
        "    Q.append(R.pop(0))\n",
        "    while True :\n",
        "      if (len(Q) >= 3 and Q[-3] < Q[-1]) : \n",
        "        Q[-3] =  merge(Q[-3],Q[-2])\n",
        "        Q[-2] = Q[-1]\n",
        "        Q.pop()\n",
        "\n",
        "      elif (len(Q) >= 3 and Q[-3] <= Q[-1] + Q[-2]) : \n",
        "        Q[-2] = merge(Q[-2],Q[-1])\n",
        "        Q.pop()\n",
        "      \n",
        "      elif (len(Q) >= 4 and Q[-4] <= Q[-3] + Q[-2]) : \n",
        "        Q[-2] = merge(Q[-2],Q[-1])\n",
        "        Q.pop()\n",
        "        \n",
        "      elif (len(Q) >= 2 and Q[-2] <= Q[-1]) : \n",
        "        Q[-2] = merge(Q[-1],Q[-2])\n",
        "        Q.pop()\n",
        "      \n",
        "      else :\n",
        "        break\n",
        "\n",
        "  while len(Q) > 1 :\n",
        "    Q[-2] = merge(Q[-1],Q[-2])\n",
        "    Q.pop()\n",
        "\n",
        "  return Q.pop()  "
      ],
      "execution_count": 18,
      "outputs": []
    },
    {
      "cell_type": "markdown",
      "metadata": {
        "id": "AFEdRqj3OsmE"
      },
      "source": [
        "### Alpha Stack Sort"
      ]
    },
    {
      "cell_type": "code",
      "metadata": {
        "id": "6OkCNz5hHwXN"
      },
      "source": [
        "import math\n",
        "\n",
        "def AlphaStacksort(arr) : \n",
        "  R = partition_arr(arr)\n",
        "  Q = []\n",
        "  while len(R) != 0 : \n",
        "    Q.append(R.pop(0))\n",
        "    while len(Q) >= 2 and ( len(Q[-2]) < 1.62 * len(Q[-1]) ) : \n",
        "      Q[-2] = merge(Q[-1],Q[-2])\n",
        "      Q.pop()\n",
        "\n",
        "  while len(Q) > 1 :\n",
        "    Q[-2] = merge(Q[-1],Q[-2])\n",
        "    Q.pop()\n",
        "  return Q.pop()"
      ],
      "execution_count": 19,
      "outputs": []
    },
    {
      "cell_type": "markdown",
      "metadata": {
        "id": "JcehIj7BOvmw"
      },
      "source": [
        "### Shivers Sort"
      ]
    },
    {
      "cell_type": "code",
      "metadata": {
        "id": "Kg7pv5jCHsBz"
      },
      "source": [
        "import math\n",
        "\n",
        "def Shiverssort(arr) : \n",
        "  R = partition_arr(arr)\n",
        "  Q = []\n",
        "  while len(R) != 0 : \n",
        "    Q.append(R.pop(0))\n",
        "    while len(Q) >= 2 and pow(2,math.floor( math.log(len(Q[-2]),2)))  <= len(Q[-1]) : \n",
        "      Q[-2] = merge(Q[-1],Q[-2])\n",
        "      Q.pop()\n",
        "\n",
        "  while len(Q) > 1 :\n",
        "    Q[-2] = merge(Q[-1],Q[-2])\n",
        "    Q.pop()\n",
        "  return Q.pop()"
      ],
      "execution_count": 20,
      "outputs": []
    },
    {
      "cell_type": "markdown",
      "metadata": {
        "id": "c_hk9L5tOy8C"
      },
      "source": [
        "### 2 Merge Sort"
      ]
    },
    {
      "cell_type": "code",
      "metadata": {
        "id": "7_XBMVW4H5NA"
      },
      "source": [
        "def Twomergesort(arr) : \n",
        "\tR = partition_arr(arr)\n",
        "\tQ = []\n",
        "\twhile len(R) != 0 : \n",
        "\t\tQ.append(R.pop(0))\n",
        "\t\twhile (len(Q) >= 3) and (len(Q[-2]) < 2*len(Q[-1])): \n",
        "\t\t\tif len(Q[-3]) < len(Q[-1]) : \n",
        "\t\t\t\tQ[-3] = merge(Q[-3],Q[-2])\n",
        "\t\t\t\tQ[-2] = Q[-1]\n",
        "\t\t\t\tQ.pop()\n",
        "\t\t\telse : \n",
        "\t\t\t\tQ[-2] = merge(Q[-1],Q[-2])\n",
        "\t\t\t\tQ.pop()\n",
        "\t\tif len(Q) == 2:\n",
        "\t\t\tif  len(Q[-2]) < 2*len(Q[-1]) : \n",
        "\t\t\t\tQ[-2] = merge(Q[-1],Q[-2])\n",
        "\t\t\t\tQ.pop()\n",
        "\twhile len(Q) > 1 :\n",
        "\t\tQ[-2] = merge(Q[-1],Q[-2])\n",
        "\t\tQ.pop()\n",
        "\treturn Q.pop()   "
      ],
      "execution_count": 21,
      "outputs": []
    },
    {
      "cell_type": "markdown",
      "metadata": {
        "id": "01ybIUACO15z"
      },
      "source": [
        "### Alpha Merge Sort"
      ]
    },
    {
      "cell_type": "code",
      "metadata": {
        "id": "CXxkFZS4H7Nk"
      },
      "source": [
        "def Alphamergesort(arr) : \n",
        "  R = partition_list(arr)\n",
        "  Q = []\n",
        "  alpha = 1.62 \n",
        "  while len(R) != 0 : \n",
        "    Q.append(R.pop(0))\n",
        "    while (len(Q) >= 3) and ( (len(Q[-2]) < alpha*len(Q[-1])) or (len(Q[-3]) < alpha*len(Q[-2])) ) : \n",
        "      if len(Q[-3]) < len(Q[-1]) : \n",
        "        Q[-3] = merge(Q[-3],Q[-2])\n",
        "        Q[-2] = Q[-1]\n",
        "        Q.pop()\n",
        "      else : \n",
        "          Q[-2] = merge(Q[-1],Q[-2])\n",
        "          Q.pop()\n",
        "    if len(Q) == 2:\n",
        "      if  len(Q[-2]) < alpha*len(Q[-1]) : \n",
        "        Q[-2] = merge(Q[-1],Q[-2])\n",
        "        Q.pop()\n",
        "         \n",
        "  while len(Q) > 1 :\n",
        "     Q[-2] = merge(Q[-1],Q[-2])\n",
        "     Q.pop()\n",
        "  return Q.pop()   "
      ],
      "execution_count": 22,
      "outputs": []
    },
    {
      "cell_type": "markdown",
      "metadata": {
        "id": "GkBibQnYPAMR"
      },
      "source": [
        "### Performance in Random Array"
      ]
    },
    {
      "cell_type": "code",
      "metadata": {
        "colab": {
          "base_uri": "https://localhost:8080/",
          "height": 295
        },
        "id": "rwAy_ZMNICeH",
        "outputId": "d30ab814-1698-46db-8d82-82daeae93bea"
      },
      "source": [
        "import math\n",
        "import numpy as np\n",
        "import time\n",
        "import random\n",
        "import matplotlib.pyplot as plt\n",
        "\n",
        "\n",
        "elements_mergeSort = list()\n",
        "times_mergeSort = list()\n",
        "\n",
        "elements_shivers = list()\n",
        "times_shivers = list()\n",
        "\n",
        "elements_alpha = list()\n",
        "times_alpha = list()\n",
        "\n",
        "elements_tim = list()\n",
        "times_tim = list()\n",
        "\n",
        "elements_alpha_stack = list()\n",
        "times_alpha_stack = list()\n",
        "\n",
        "elements_two_merge = list()\n",
        "times_two_merge = list()\n",
        "\n",
        "for i in range(1,1000):\n",
        "  a = [random.randrange(0,10) for i in range(10000)]\n",
        "\n",
        "  start_merge = time.time()\n",
        "  mergeSort(a)\n",
        "  end_merge = time.time()\n",
        "\n",
        "  start_tim = time.process_time()\n",
        "  Timsort(a)\n",
        "  end_tim = time.process_time()\n",
        "\n",
        "  start_shivers = time.process_time()\n",
        "  Shiverssort(a)\n",
        "  end_shivers = time.process_time()\n",
        "\n",
        "  start_alpha_stack = time.process_time()\n",
        "  AlphaStacksort(a)\n",
        "  end_alpha_stack = time.process_time()\n",
        "\n",
        "  start_two_merge = time.process_time()\n",
        "  Twomergesort(a)\n",
        "  end_two_merge = time.process_time()\n",
        "\n",
        "  start_alpha = time.process_time()\n",
        "  Alphamergesort(a)\n",
        "  end_alpha = time.process_time()\n",
        "\n",
        "  elements_mergeSort.append(i)\n",
        "  times_mergeSort.append(end_merge-start_merge)\n",
        "\n",
        "  elements_tim.append(i)\n",
        "  times_tim.append(end_tim-start_tim)\n",
        "\n",
        "  elements_shivers.append(i)\n",
        "  times_shivers.append(end_shivers-start_shivers)\n",
        "\n",
        "  elements_alpha_stack.append(i)\n",
        "  times_alpha_stack.append(end_alpha_stack-start_alpha_stack)\n",
        "\n",
        "  elements_two_merge.append(i)\n",
        "  times_two_merge.append(end_two_merge-start_two_merge)\n",
        "\n",
        "  elements_alpha.append(i)\n",
        "  times_alpha.append(end_alpha-start_alpha)\n",
        "\n",
        "plt.title('Performance in random array') \n",
        "plt.xlabel('Testcase ke-i')\n",
        "plt.ylabel('Time Complexity')\n",
        "plt.plot(elements_mergeSort,times_mergeSort, label ='Merge Sort')\n",
        "plt.plot(elements_tim, times_tim, label ='Tim Sort')\n",
        "plt.plot(elements_alpha_stack, times_alpha_stack, label = \" Alpha Stack Sort\")\n",
        "plt.plot(elements_shivers, times_shivers, label ='Shivers Sort')\n",
        "plt.plot(elements_alpha, times_alpha, label ='Alpha merge Sort')\n",
        "plt.plot(elements_two_merge, times_two_merge, label = \"2 Merge Sort\")\n",
        "plt.grid()\n",
        "plt.legend()\n",
        "\n",
        "plt.show()"
      ],
      "execution_count": null,
      "outputs": [
        {
          "output_type": "display_data",
          "data": {
            "image/png": "[encoded data removed]",
            "text/plain": [
              "<Figure size 432x288 with 1 Axes>"
            ]
          },
          "metadata": {
            "needs_background": "light"
          }
        }
      ]
    },
    {
      "cell_type": "code",
      "metadata": {
        "colab": {
          "base_uri": "https://localhost:8080/"
        },
        "id": "9HlGqAFlKn6J",
        "outputId": "1d3a9c39-1614-4982-b33e-390ab2685da0"
      },
      "source": [
        "algo = [times_mergeSort, times_tim, times_alpha_stack, times_shivers, times_two_merge, times_alpha]\n",
        "\n",
        "for i in algo : \n",
        "  print(\"Minimum time\", min(i))\n",
        "\n",
        "print()\n",
        "\n",
        "for i in algo : \n",
        "  print(\"Maximum time\", max(i))\n",
        "\n",
        "print()\n",
        "\n",
        "for i in algo : \n",
        "  print(\"Average time\", sum(i)/len(i))"
      ],
      "execution_count": null,
      "outputs": [
        {
          "output_type": "stream",
          "name": "stdout",
          "text": [
            "Minimum time 0.05956435203552246\n",
            "Minimum time 0.016773065000052156\n",
            "Minimum time 0.01112923999994564\n",
            "Minimum time 0.010527930000080232\n",
            "Minimum time 0.01067950399988149\n",
            "Minimum time 0.011167968999870936\n",
            "\n",
            "Maximum time 0.08271574974060059\n",
            "Maximum time 0.029064917999903628\n",
            "Maximum time 0.019902033999869673\n",
            "Maximum time 0.019060179000007338\n",
            "Maximum time 0.019327409999959855\n",
            "Maximum time 0.020150491000094917\n",
            "\n",
            "Average time 0.06231984003886088\n",
            "Average time 0.01763306146546171\n",
            "Average time 0.011748561964965917\n",
            "Average time 0.0115090634664677\n",
            "Average time 0.012064596642642084\n",
            "Average time 0.011792094485490342\n"
          ]
        }
      ]
    },
    {
      "cell_type": "markdown",
      "metadata": {
        "id": "bssRHKZvOaEJ"
      },
      "source": [
        "### Performance in Sorted Array"
      ]
    },
    {
      "cell_type": "code",
      "metadata": {
        "colab": {
          "base_uri": "https://localhost:8080/",
          "height": 295
        },
        "id": "u79xDC9aOImS",
        "outputId": "5155c294-310f-4e84-9979-8ee514c13885"
      },
      "source": [
        "import math\n",
        "import numpy as np\n",
        "import time\n",
        "import random\n",
        "import matplotlib.pyplot as plt\n",
        "\n",
        "\n",
        "elements_mergeSort = list()\n",
        "times_mergeSort = list()\n",
        "\n",
        "elements_shivers = list()\n",
        "times_shivers = list()\n",
        "\n",
        "elements_alpha = list()\n",
        "times_alpha = list()\n",
        "\n",
        "elements_tim = list()\n",
        "times_tim = list()\n",
        "\n",
        "elements_alpha_stack = list()\n",
        "times_alpha_stack = list()\n",
        "\n",
        "elements_two_merge = list()\n",
        "times_two_merge = list()\n",
        "\n",
        "for i in range(1,1000):\n",
        "  a = [random.randrange(0,10) for i in range(10000)]\n",
        "  a = AlphaStacksort(a)\n",
        "\n",
        "  start_merge = time.time()\n",
        "  mergeSort(a)\n",
        "  end_merge = time.time()\n",
        "\n",
        "  start_tim = time.process_time()\n",
        "  Timsort(a)\n",
        "  end_tim = time.process_time()\n",
        "\n",
        "  start_shivers = time.process_time()\n",
        "  Shiverssort(a)\n",
        "  end_shivers = time.process_time()\n",
        "\n",
        "  start_alpha_stack = time.process_time()\n",
        "  AlphaStacksort(a)\n",
        "  end_alpha_stack = time.process_time()\n",
        "\n",
        "  start_two_merge = time.process_time()\n",
        "  Twomergesort(a)\n",
        "  end_two_merge = time.process_time()\n",
        "\n",
        "  start_alpha = time.process_time()\n",
        "  Alphamergesort(a)\n",
        "  end_alpha = time.process_time()\n",
        "\n",
        "  elements_mergeSort.append(i)\n",
        "  times_mergeSort.append(end_merge-start_merge)\n",
        "\n",
        "  elements_tim.append(i)\n",
        "  times_tim.append(end_tim-start_tim)\n",
        "\n",
        "  elements_shivers.append(i)\n",
        "  times_shivers.append(end_shivers-start_shivers)\n",
        "\n",
        "  elements_alpha_stack.append(i)\n",
        "  times_alpha_stack.append(end_alpha_stack-start_alpha_stack)\n",
        "\n",
        "  elements_two_merge.append(i)\n",
        "  times_two_merge.append(end_two_merge-start_two_merge)\n",
        "\n",
        "  elements_alpha.append(i)\n",
        "  times_alpha.append(end_alpha-start_alpha)\n",
        "\n",
        "plt.title('Performance in sorted array') \n",
        "plt.xlabel('Testcase ke-i')\n",
        "plt.ylabel('Time Complexity')\n",
        "plt.plot(elements_mergeSort,times_mergeSort, label ='Merge Sort')\n",
        "plt.plot(elements_tim, times_tim, label ='Tim Sort')\n",
        "plt.plot(elements_alpha_stack, times_alpha_stack, label = \" Alpha Stack Sort\")\n",
        "plt.plot(elements_shivers, times_shivers, label ='Shivers Sort')\n",
        "plt.plot(elements_alpha, times_alpha, label ='Alpha merge Sort')\n",
        "plt.plot(elements_two_merge, times_two_merge, label = \"2 Merge Sort\")\n",
        "plt.grid()\n",
        "plt.legend()\n",
        "\n",
        "plt.show()"
      ],
      "execution_count": null,
      "outputs": [
        {
          "output_type": "display_data",
          "data": {
            "image/png": "[encoded data removed]",
            "text/plain": [
              "<Figure size 432x288 with 1 Axes>"
            ]
          },
          "metadata": {
            "needs_background": "light"
          }
        }
      ]
    },
    {
      "cell_type": "code",
      "metadata": {
        "colab": {
          "base_uri": "https://localhost:8080/"
        },
        "id": "4MbPYcnAOP4u",
        "outputId": "ae285dd0-f03f-4e31-f3c4-c6cd3803b781"
      },
      "source": [
        "algo = [times_mergeSort, times_tim, times_alpha_stack, times_shivers, times_two_merge, times_alpha]\n",
        "\n",
        "for i in algo : \n",
        "  print(\"Minimum time\", min(i))\n",
        "\n",
        "print()\n",
        "\n",
        "for i in algo : \n",
        "  print(\"Maximum time\", max(i))\n",
        "\n",
        "print()\n",
        "\n",
        "for i in algo : \n",
        "  print(\"Average time\", sum(i)/len(i))"
      ],
      "execution_count": null,
      "outputs": [
        {
          "output_type": "stream",
          "name": "stdout",
          "text": [
            "Minimum time 0.051999568939208984\n",
            "Minimum time 0.016768020000199613\n",
            "Minimum time 0.011217708000003768\n",
            "Minimum time 0.010520551000126943\n",
            "Minimum time 0.010675600000013219\n",
            "Minimum time 0.011202551999986099\n",
            "\n",
            "Maximum time 0.07521963119506836\n",
            "Maximum time 0.02857540200011499\n",
            "Maximum time 0.018993666000142184\n",
            "Maximum time 0.018936077000034857\n",
            "Maximum time 0.019517002999918986\n",
            "Maximum time 0.0196987919998719\n",
            "\n",
            "Average time 0.05405468840498824\n",
            "Average time 0.017735129292293993\n",
            "Average time 0.011770842247248144\n",
            "Average time 0.011503669689690613\n",
            "Average time 0.012148134084088486\n",
            "Average time 0.011796459469473598\n"
          ]
        }
      ]
    },
    {
      "cell_type": "code",
      "metadata": {
        "colab": {
          "base_uri": "https://localhost:8080/",
          "height": 1000
        },
        "id": "NX1eUQ05gTQ-",
        "outputId": "f0760e0b-7bcf-4f1e-ad3d-802b672df8ae"
      },
      "source": [
        "import math\n",
        "import numpy as np\n",
        "import time\n",
        "import random\n",
        "import matplotlib.pyplot as plt\n",
        "\n",
        "\n",
        "elements_mergeSort = list()\n",
        "times_mergeSort = list()\n",
        "\n",
        "elements_shivers = list()\n",
        "times_shivers = list()\n",
        "\n",
        "elements_alpha = list()\n",
        "times_alpha = list()\n",
        "\n",
        "elements_tim = list()\n",
        "times_tim = list()\n",
        "\n",
        "elements_alpha_stack = list()\n",
        "times_alpha_stack = list()\n",
        "\n",
        "elements_two_merge = list()\n",
        "times_two_merge = list()\n",
        "\n",
        "elements_alp = list()\n",
        "times_alp = list()\n",
        "\n",
        "for i in range(1,11):\n",
        "  a = [random.randrange(0,10) for i in range(1000*i)]\n",
        "\n",
        "  start_merge = time.time()\n",
        "  mergeSort(a)\n",
        "  end_merge = time.time()\n",
        "\n",
        "  start_tim = time.process_time()\n",
        "  Timsort(a)\n",
        "  end_tim = time.process_time()\n",
        "\n",
        "  start_shivers = time.process_time()\n",
        "  Shiverssort(a)\n",
        "  end_shivers = time.process_time()\n",
        "\n",
        "  start_alpha_stack = time.process_time()\n",
        "  AlphaStacksort(a)\n",
        "  end_alpha_stack = time.process_time()\n",
        "\n",
        "  start_two_merge = time.process_time()\n",
        "  Twomergesort(a)\n",
        "  end_two_merge = time.process_time()\n",
        "\n",
        "  start_alpha = time.process_time()\n",
        "  Alphamergesort(a)\n",
        "  end_alpha = time.process_time()\n",
        "\n",
        "  \n",
        "\n",
        "  print(len(a), \"Elements Sorted by Merge sort Sort in \", end_merge - start_merge)\n",
        "  print(len(a), \"Elements Sorted by Tim Sort in \", end_tim-start_tim)\n",
        "  print(len(a), \"Elements Sorted by Alpha stack sort Sort in \", end_alpha_stack-start_alpha_stack)\n",
        "  print(len(a), \"Elements Sorted by Shivers Sort in \", end_shivers-start_shivers)\n",
        "  print(len(a), \"Elements Sorted by Alpha merge sort Sort in \", end_alpha-start_alpha)\n",
        "  print(len(a), \"Elements Sorted by 2 merge sort Sort in \", end_two_merge-start_two_merge)\n",
        "  print()\n",
        "\n",
        "  elements_mergeSort.append(len(a))\n",
        "  times_mergeSort.append(end_merge-start_merge)\n",
        "\n",
        "  elements_tim.append(len(a))\n",
        "  times_tim.append(end_tim-start_tim)\n",
        "\n",
        "  elements_shivers.append(len(a))\n",
        "  times_shivers.append(end_shivers-start_shivers)\n",
        "\n",
        "  elements_alpha_stack.append(len(a))\n",
        "  times_alpha_stack.append(end_alpha_stack-start_alpha_stack)\n",
        "\n",
        "  elements_two_merge.append(len(a))\n",
        "  times_two_merge.append(end_two_merge-start_two_merge)\n",
        "\n",
        "  elements_alpha.append(len(a))\n",
        "  times_alpha.append(end_alpha-start_alpha)\n",
        "\n",
        "plt.title('Algorithm Growth in random array') \n",
        "plt.xlabel('Array Size')\n",
        "plt.ylabel('Time Complexity')\n",
        "plt.plot(elements_mergeSort,times_mergeSort, label ='Merge Sort')\n",
        "plt.plot(elements_tim, times_tim, label ='Tim Sort')\n",
        "plt.plot(elements_alpha_stack, times_alpha_stack, label = \" Alpha Stack Sort\")\n",
        "plt.plot(elements_shivers, times_shivers, label ='Shivers Sort')\n",
        "plt.plot(elements_alpha, times_alpha, label ='Alpha merge Sort')\n",
        "plt.plot(elements_two_merge, times_two_merge, label = \"2 Merge Sort\")\n",
        "plt.grid()\n",
        "plt.legend()\n",
        "plt.show()"
      ],
      "execution_count": 10,
      "outputs": [
        {
          "output_type": "stream",
          "name": "stdout",
          "text": [
            "1000 Elements Sorted by Merge sort Sort in  0.004559993743896484\n",
            "1000 Elements Sorted by Tim Sort in  0.0016261870000002787\n",
            "1000 Elements Sorted by Alpha stack sort Sort in  0.0010357139999999099\n",
            "1000 Elements Sorted by Shivers Sort in  0.0010996180000000244\n",
            "1000 Elements Sorted by Alpha merge sort Sort in  0.0010771629999997145\n",
            "1000 Elements Sorted by 2 merge sort Sort in  0.0010644830000003935\n",
            "\n",
            "2000 Elements Sorted by Merge sort Sort in  0.01169896125793457\n",
            "2000 Elements Sorted by Tim Sort in  0.005423201999999794\n",
            "2000 Elements Sorted by Alpha stack sort Sort in  0.0021214890000003095\n",
            "2000 Elements Sorted by Shivers Sort in  0.0021310409999997226\n",
            "2000 Elements Sorted by Alpha merge sort Sort in  0.0022842100000000087\n",
            "2000 Elements Sorted by 2 merge sort Sort in  0.004267270999999795\n",
            "\n",
            "3000 Elements Sorted by Merge sort Sort in  0.017213106155395508\n",
            "3000 Elements Sorted by Tim Sort in  0.005620103000000043\n",
            "3000 Elements Sorted by Alpha stack sort Sort in  0.00310230899999997\n",
            "3000 Elements Sorted by Shivers Sort in  0.004414079999999654\n",
            "3000 Elements Sorted by Alpha merge sort Sort in  0.0034095249999999133\n",
            "3000 Elements Sorted by 2 merge sort Sort in  0.004316935999999938\n",
            "\n",
            "4000 Elements Sorted by Merge sort Sort in  0.02368783950805664\n",
            "4000 Elements Sorted by Tim Sort in  0.007543241000000034\n",
            "4000 Elements Sorted by Alpha stack sort Sort in  0.0056885320000001904\n",
            "4000 Elements Sorted by Shivers Sort in  0.0071898159999999045\n",
            "4000 Elements Sorted by Alpha merge sort Sort in  0.004584096999999954\n",
            "4000 Elements Sorted by 2 merge sort Sort in  0.003964456999999921\n",
            "\n",
            "5000 Elements Sorted by Merge sort Sort in  0.02961874008178711\n",
            "5000 Elements Sorted by Tim Sort in  0.010175757999999924\n",
            "5000 Elements Sorted by Alpha stack sort Sort in  0.005769125000000042\n",
            "5000 Elements Sorted by Shivers Sort in  0.006442105000000087\n",
            "5000 Elements Sorted by Alpha merge sort Sort in  0.005794545999999734\n",
            "5000 Elements Sorted by 2 merge sort Sort in  0.008455604999999977\n",
            "\n",
            "6000 Elements Sorted by Merge sort Sort in  0.04194808006286621\n",
            "6000 Elements Sorted by Tim Sort in  0.013326222000000332\n",
            "6000 Elements Sorted by Alpha stack sort Sort in  0.006515349000000281\n",
            "6000 Elements Sorted by Shivers Sort in  0.006754769000000049\n",
            "6000 Elements Sorted by Alpha merge sort Sort in  0.006844241000000029\n",
            "6000 Elements Sorted by 2 merge sort Sort in  0.0068618049999997766\n",
            "\n",
            "7000 Elements Sorted by Merge sort Sort in  0.04616284370422363\n",
            "7000 Elements Sorted by Tim Sort in  0.01137360799999998\n",
            "7000 Elements Sorted by Alpha stack sort Sort in  0.007501340000000134\n",
            "7000 Elements Sorted by Shivers Sort in  0.007663939999999592\n",
            "7000 Elements Sorted by Alpha merge sort Sort in  0.0075942069999999084\n",
            "7000 Elements Sorted by 2 merge sort Sort in  0.007229249999999965\n",
            "\n",
            "8000 Elements Sorted by Merge sort Sort in  0.05427980422973633\n",
            "8000 Elements Sorted by Tim Sort in  0.01342671399999995\n",
            "8000 Elements Sorted by Alpha stack sort Sort in  0.009028867000000051\n",
            "8000 Elements Sorted by Shivers Sort in  0.010056489999999751\n",
            "8000 Elements Sorted by Alpha merge sort Sort in  0.008911333999999993\n",
            "8000 Elements Sorted by 2 merge sort Sort in  0.008614241999999717\n",
            "\n",
            "9000 Elements Sorted by Merge sort Sort in  0.056535959243774414\n",
            "9000 Elements Sorted by Tim Sort in  0.015238472000000058\n",
            "9000 Elements Sorted by Alpha stack sort Sort in  0.009904822000000202\n",
            "9000 Elements Sorted by Shivers Sort in  0.010509773999999972\n",
            "9000 Elements Sorted by Alpha merge sort Sort in  0.009705214999999878\n",
            "9000 Elements Sorted by 2 merge sort Sort in  0.009437655999999794\n",
            "\n",
            "10000 Elements Sorted by Merge sort Sort in  0.061336517333984375\n",
            "10000 Elements Sorted by Tim Sort in  0.02074935499999997\n",
            "10000 Elements Sorted by Alpha stack sort Sort in  0.012284366000000269\n",
            "10000 Elements Sorted by Shivers Sort in  0.014754275000000039\n",
            "10000 Elements Sorted by Alpha merge sort Sort in  0.0104546059999997\n",
            "10000 Elements Sorted by 2 merge sort Sort in  0.010950088000000413\n",
            "\n"
          ]
        },
        {
          "output_type": "display_data",
          "data": {
            "image/png": "[encoded data removed]",
            "text/plain": [
              "<Figure size 432x288 with 1 Axes>"
            ]
          },
          "metadata": {
            "needs_background": "light"
          }
        }
      ]
    }
  ]
}